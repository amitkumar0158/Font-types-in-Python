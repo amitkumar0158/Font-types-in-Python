{
 "cells": [
  {
   "cell_type": "code",
   "execution_count": 3,
   "id": "589d6ad2",
   "metadata": {},
   "outputs": [],
   "source": [
    "import pyfiglet"
   ]
  },
  {
   "cell_type": "markdown",
   "id": "3de4c55e",
   "metadata": {},
   "source": [
    "To display  a string in different fonts python uses 0r supports Pyfiglet"
   ]
  },
  {
   "cell_type": "code",
   "execution_count": 4,
   "id": "f97c4faa",
   "metadata": {},
   "outputs": [
    {
     "name": "stdout",
     "output_type": "stream",
     "text": [
      "    _    __  __ ___ _____ \n",
      "   / \\  |  \\/  |_ _|_   _|\n",
      "  / _ \\ | |\\/| || |  | |  \n",
      " / ___ \\| |  | || |  | |  \n",
      "/_/   \\_\\_|  |_|___| |_|  \n",
      "                          \n",
      "\n"
     ]
    }
   ],
   "source": [
    "string=pyfiglet.figlet_format(\"AMIT\")\n",
    "print(string)"
   ]
  },
  {
   "cell_type": "code",
   "execution_count": 5,
   "id": "b95b9801",
   "metadata": {},
   "outputs": [
    {
     "name": "stdout",
     "output_type": "stream",
     "text": [
      "    ___    __  _____________\n",
      "   /   |  /  |/  /  _/_  __/\n",
      "  / /| | / /|_/ // /  / /   \n",
      " / ___ |/ /  / // /  / /    \n",
      "/_/  |_/_/  /_/___/ /_/     \n",
      "                            \n",
      "\n"
     ]
    }
   ],
   "source": [
    "string=pyfiglet.figlet_format(\"AMIT\",font ='slant')\n",
    "print(string)"
   ]
  },
  {
   "cell_type": "code",
   "execution_count": 6,
   "id": "138b0b1e",
   "metadata": {},
   "outputs": [
    {
     "name": "stdout",
     "output_type": "stream",
     "text": [
      "     **     ****     **** ** **********\n",
      "    ****   /**/**   **/**/**/////**/// \n",
      "   **//**  /**//** ** /**/**    /**    \n",
      "  **  //** /** //***  /**/**    /**    \n",
      " **********/**  //*   /**/**    /**    \n",
      "/**//////**/**   /    /**/**    /**    \n",
      "/**     /**/**        /**/**    /**    \n",
      "//      // //         // //     //     \n",
      "\n"
     ]
    }
   ],
   "source": [
    "string=pyfiglet.figlet_format(\"AMIT\",font ='3-d')\n",
    "print(string)"
   ]
  },
  {
   "cell_type": "code",
   "execution_count": 7,
   "id": "47ead0bc",
   "metadata": {},
   "outputs": [
    {
     "name": "stdout",
     "output_type": "stream",
     "text": [
      "                                               \n",
      "                              ___   ___        \n",
      "    // | |     /|    //| |       / / /__  ___/ \n",
      "   //__| |    //|   // | |      / /    / /     \n",
      "  / ___  |   // |  //  | |     / /    / /      \n",
      " //    | |  //  | //   | |    / /    / /       \n",
      "//     | | //   |//    | | __/ /___ / /        \n",
      "\n"
     ]
    }
   ],
   "source": [
    "string=pyfiglet.figlet_format(\"AMIT\",font ='5lineoblique')\n",
    "print(string)"
   ]
  },
  {
   "cell_type": "code",
   "execution_count": 8,
   "id": "e17645da",
   "metadata": {},
   "outputs": [
    {
     "name": "stdout",
     "output_type": "stream",
     "text": [
      " AA  M   M III TTTTTT \n",
      "A  A MM MM  I    TT   \n",
      "AAAA M M M  I    TT   \n",
      "A  A M   M  I    TT   \n",
      "A  A M   M III   TT   \n",
      "                      \n",
      "                      \n",
      "\n"
     ]
    }
   ],
   "source": [
    "string=pyfiglet.figlet_format(\"AMIT\",font ='alphabet')\n",
    "print(string)"
   ]
  },
  {
   "cell_type": "code",
   "execution_count": 9,
   "id": "c89e58c9",
   "metadata": {},
   "outputs": [
    {
     "name": "stdout",
     "output_type": "stream",
     "text": [
      "                                                                          \n",
      "                                                                          \n",
      "               AAA               MMMMMMMM               MMMMMMMMIIIIIIIIII\n",
      "              A:::A              M:::::::M             M:::::::MI::::::::I\n",
      "             A:::::A             M::::::::M           M::::::::MI::::::::I\n",
      "            A:::::::A            M:::::::::M         M:::::::::MII::::::II\n",
      "           A:::::::::A           M::::::::::M       M::::::::::M  I::::I  \n",
      "          A:::::A:::::A          M:::::::::::M     M:::::::::::M  I::::I  \n",
      "         A:::::A A:::::A         M:::::::M::::M   M::::M:::::::M  I::::I  \n",
      "        A:::::A   A:::::A        M::::::M M::::M M::::M M::::::M  I::::I  \n",
      "       A:::::A     A:::::A       M::::::M  M::::M::::M  M::::::M  I::::I  \n",
      "      A:::::AAAAAAAAA:::::A      M::::::M   M:::::::M   M::::::M  I::::I  \n",
      "     A:::::::::::::::::::::A     M::::::M    M:::::M    M::::::M  I::::I  \n",
      "    A:::::AAAAAAAAAAAAA:::::A    M::::::M     MMMMM     M::::::M  I::::I  \n",
      "   A:::::A             A:::::A   M::::::M               M::::::MII::::::II\n",
      "  A:::::A               A:::::A  M::::::M               M::::::MI::::::::I\n",
      " A:::::A                 A:::::A M::::::M               M::::::MI::::::::I\n",
      "AAAAAAA                   AAAAAAAMMMMMMMM               MMMMMMMMIIIIIIIIII\n",
      "                                                                          \n",
      "                                                                          \n",
      "                                                                          \n",
      "                                                                          \n",
      "                                                                          \n",
      "                                                                          \n",
      "                                                                          \n",
      "                       \n",
      "                       \n",
      "TTTTTTTTTTTTTTTTTTTTTTT\n",
      "T:::::::::::::::::::::T\n",
      "T:::::::::::::::::::::T\n",
      "T:::::TT:::::::TT:::::T\n",
      "TTTTTT  T:::::T  TTTTTT\n",
      "        T:::::T        \n",
      "        T:::::T        \n",
      "        T:::::T        \n",
      "        T:::::T        \n",
      "        T:::::T        \n",
      "        T:::::T        \n",
      "        T:::::T        \n",
      "      TT:::::::TT      \n",
      "      T:::::::::T      \n",
      "      T:::::::::T      \n",
      "      TTTTTTTTTTT      \n",
      "                       \n",
      "                       \n",
      "                       \n",
      "                       \n",
      "                       \n",
      "                       \n",
      "                       \n",
      "\n"
     ]
    }
   ],
   "source": [
    "string=pyfiglet.figlet_format(\"AMIT\",font ='doh')\n",
    "print(string)"
   ]
  },
  {
   "cell_type": "code",
   "execution_count": 10,
   "id": "be579c9d",
   "metadata": {},
   "outputs": [
    {
     "name": "stdout",
     "output_type": "stream",
     "text": [
      ":::'###::::'##::::'##:'####:'########:\n",
      "::'## ##::: ###::'###:. ##::... ##..::\n",
      ":'##:. ##:: ####'####:: ##::::: ##::::\n",
      "'##:::. ##: ## ### ##:: ##::::: ##::::\n",
      " #########: ##. #: ##:: ##::::: ##::::\n",
      " ##.... ##: ##:.:: ##:: ##::::: ##::::\n",
      " ##:::: ##: ##:::: ##:'####:::: ##::::\n",
      "..:::::..::..:::::..::....:::::..:::::\n",
      "\n"
     ]
    }
   ],
   "source": [
    "string=pyfiglet.figlet_format(\"AMIT\",font ='banner3-d')\n",
    "print(string)"
   ]
  },
  {
   "cell_type": "code",
   "execution_count": 11,
   "id": "4c7a37f3",
   "metadata": {},
   "outputs": [
    {
     "name": "stdout",
     "output_type": "stream",
     "text": [
      "  AAA   MM    MM IIIII TTTTTTT \n",
      " AAAAA  MMM  MMM  III    TTT   \n",
      "AA   AA MM MM MM  III    TTT   \n",
      "AAAAAAA MM    MM  III    TTT   \n",
      "AA   AA MM    MM IIIII   TTT   \n",
      "                               \n",
      "\n"
     ]
    }
   ],
   "source": [
    "string=pyfiglet.figlet_format(\"AMIT\",font ='letters')\n",
    "print(string)"
   ]
  },
  {
   "cell_type": "code",
   "execution_count": 12,
   "id": "63d7d2d6",
   "metadata": {},
   "outputs": [
    {
     "name": "stdout",
     "output_type": "stream",
     "text": [
      "      ___           ___                       ___     \n",
      "     /\\  \\         /\\__\\          ___        /\\  \\    \n",
      "    /::\\  \\       /::|  |        /\\  \\       \\:\\  \\   \n",
      "   /:/\\:\\  \\     /:|:|  |        \\:\\  \\       \\:\\  \\  \n",
      "  /::\\~\\:\\  \\   /:/|:|__|__      /::\\__\\      /::\\  \\ \n",
      " /:/\\:\\ \\:\\__\\ /:/ |::::\\__\\  __/:/\\/__/     /:/\\:\\__\\\n",
      " \\/__\\:\\/:/  / \\/__/~~/:/  / /\\/:/  /       /:/  \\/__/\n",
      "      \\::/  /        /:/  /  \\::/__/       /:/  /     \n",
      "      /:/  /        /:/  /    \\:\\__\\       \\/__/      \n",
      "     /:/  /        /:/  /      \\/__/                  \n",
      "     \\/__/         \\/__/                              \n",
      "\n"
     ]
    }
   ],
   "source": [
    "string=pyfiglet.figlet_format(\"AMIT\",font ='isometric1')\n",
    "print(string)"
   ]
  },
  {
   "cell_type": "code",
   "execution_count": 13,
   "id": "43b477bc",
   "metadata": {},
   "outputs": [
    {
     "name": "stdout",
     "output_type": "stream",
     "text": [
      "       _        _           _  _  _  _  _  _  _  _  _    \n",
      "     _(_)_     (_) _     _ (_)(_)(_)(_)(_)(_)(_)(_)(_)   \n",
      "   _(_) (_)_   (_)(_)   (_)(_)   (_)         (_)         \n",
      " _(_)     (_)_ (_) (_)_(_) (_)   (_)         (_)         \n",
      "(_) _  _  _ (_)(_)   (_)   (_)   (_)         (_)         \n",
      "(_)(_)(_)(_)(_)(_)         (_)   (_)         (_)         \n",
      "(_)         (_)(_)         (_) _ (_) _       (_)         \n",
      "(_)         (_)(_)         (_)(_)(_)(_)      (_)         \n",
      "                                                         \n",
      "                                                         \n",
      "\n"
     ]
    }
   ],
   "source": [
    "string=pyfiglet.figlet_format(\"AMIT\",font ='dotmatrix')\n",
    "print(string)"
   ]
  },
  {
   "cell_type": "code",
   "execution_count": 14,
   "id": "2aa4bc0d",
   "metadata": {},
   "outputs": [
    {
     "name": "stdout",
     "output_type": "stream",
     "text": [
      "  _   _   _   _  \n",
      " / \\ / \\ / \\ / \\ \n",
      "( A | M | I | T )\n",
      " \\_/ \\_/ \\_/ \\_/ \n",
      "\n"
     ]
    }
   ],
   "source": [
    "string=pyfiglet.figlet_format(\"AMIT\",font ='bubble')\n",
    "print(string)"
   ]
  },
  {
   "cell_type": "code",
   "execution_count": 15,
   "id": "140f5615",
   "metadata": {},
   "outputs": [
    {
     "name": "stdout",
     "output_type": "stream",
     "text": [
      "+-+-+-+-+\n",
      "|A|M|I|T|\n",
      "+-+-+-+-+\n",
      "\n"
     ]
    }
   ],
   "source": [
    "string=pyfiglet.figlet_format(\"AMIT\",font ='digital')\n",
    "print(string)"
   ]
  },
  {
   "cell_type": "code",
   "execution_count": 16,
   "id": "587047ed",
   "metadata": {},
   "outputs": [
    {
     "name": "stdout",
     "output_type": "stream",
     "text": [
      "   __    __  __  ____  ____ \n",
      "  /__\\  (  \\/  )(_  _)(_  _)\n",
      " /(__)\\  )    (  _)(_   )(  \n",
      "(__)(__)(_/\\/\\_)(____) (__) \n",
      "\n"
     ]
    }
   ],
   "source": [
    "string=pyfiglet.figlet_format(\"AMIT\",font ='bulbhead')\n",
    "print(string)"
   ]
  },
  {
   "cell_type": "code",
   "execution_count": 17,
   "id": "b7bb670b",
   "metadata": {},
   "outputs": [
    {
     "name": "stdout",
     "output_type": "stream",
     "text": [
      "          :::      :::   :::  :::::::::::::::::::::: \n",
      "       :+: :+:   :+:+: :+:+:     :+:        :+:      \n",
      "     +:+   +:+ +:+ +:+:+ +:+    +:+        +:+       \n",
      "   +#++:++#++:+#+  +:+  +#+    +#+        +#+        \n",
      "  +#+     +#++#+       +#+    +#+        +#+         \n",
      " #+#     #+##+#       #+#    #+#        #+#          \n",
      "###     ######       ##############    ###           \n",
      "\n"
     ]
    }
   ],
   "source": [
    "string=pyfiglet.figlet_format(\"AMIT\",font ='alligator')\n",
    "print(string)"
   ]
  },
  {
   "cell_type": "code",
   "execution_count": 18,
   "id": "07331227",
   "metadata": {},
   "outputs": [
    {
     "name": "stdout",
     "output_type": "stream",
     "text": [
      " ___         ___   ___  \n",
      "|   | |\\ /|   |     |   \n",
      "|-+-| | + |   +     +   \n",
      "|   | |   |   |     |   \n",
      "             ---        \n",
      "                        \n",
      "\n"
     ]
    }
   ],
   "source": [
    "string=pyfiglet.figlet_format(\"AMIT\",font ='lcd')\n",
    "print(string)"
   ]
  },
  {
   "cell_type": "code",
   "execution_count": null,
   "id": "0752d047",
   "metadata": {},
   "outputs": [],
   "source": []
  }
 ],
 "metadata": {
  "kernelspec": {
   "display_name": "Python 3",
   "language": "python",
   "name": "python3"
  },
  "language_info": {
   "codemirror_mode": {
    "name": "ipython",
    "version": 3
   },
   "file_extension": ".py",
   "mimetype": "text/x-python",
   "name": "python",
   "nbconvert_exporter": "python",
   "pygments_lexer": "ipython3",
   "version": "3.9.1"
  }
 },
 "nbformat": 4,
 "nbformat_minor": 5
}
